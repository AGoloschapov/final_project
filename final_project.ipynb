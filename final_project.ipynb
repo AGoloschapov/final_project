{
 "cells": [
  {
   "cell_type": "markdown",
   "metadata": {},
   "source": [
    "# Получаем данные о вакансиях по api HH.ru"
   ]
  },
  {
   "cell_type": "code",
   "execution_count": 2,
   "metadata": {},
   "outputs": [],
   "source": [
    "import requests\n",
    "from tqdm import tqdm\n",
    "from datetime import datetime"
   ]
  },
  {
   "cell_type": "code",
   "execution_count": 9,
   "metadata": {},
   "outputs": [],
   "source": [
    "# Зададим период поиска вакансий\n",
    "start_date = \"2024-10-01\"\n",
    "end_date = \"2024-10-14\""
   ]
  },
  {
   "cell_type": "code",
   "execution_count": 25,
   "metadata": {},
   "outputs": [],
   "source": [
    "# Напишем функцию, которая вычислит количество страниц с вакансиями\n",
    "\n",
    "def get_total_pages(start_date, end_date, spec):\n",
    "    url = \"https://api.hh.ru/vacancies\"\n",
    "    # Создадим словарь с параметрами поиска\n",
    "    params = {\n",
    "        \"area\": \"113\",  # 113 - код для России\n",
    "        \"date_from\": start_date,\n",
    "        \"date_to\": end_date,\n",
    "        \"per_page\": 1,   # 1 вакансия на страницу\n",
    "        \"specialization\": spec\n",
    "    }\n",
    "\n",
    "    response = requests.get(url, params=params)\n",
    "    if response.status_code == 200:\n",
    "        data = response.json()\n",
    "        total_vacancies = data['found']\n",
    "        pages = (total_vacancies // 100) + 1  # Рассчитываем количество страниц (api hh.ru возвращает 100 элементов на страницу)\n",
    "        return pages\n",
    "    else:\n",
    "        print(f\"Ошибка: {response.status_code}\")\n",
    "        return"
   ]
  },
  {
   "cell_type": "code",
   "execution_count": 11,
   "metadata": {},
   "outputs": [
    {
     "name": "stdout",
     "output_type": "stream",
     "text": [
      "Общее количество страниц: 5776\n"
     ]
    }
   ],
   "source": [
    "pages = get_total_pages(start_date, end_date)\n",
    "print(f\"Общее количество страниц: {pages}\")"
   ]
  },
  {
   "cell_type": "code",
   "execution_count": 12,
   "metadata": {},
   "outputs": [],
   "source": [
    "# Напишем функцию для получения вакансий с hh.ru по api\n",
    "\n",
    "def get_vacancies(start_date, end_date, pages):\n",
    "    url = \"https://api.hh.ru/vacancies\"\n",
    "    # Создадим словарь с параметрами поиска\n",
    "    params = {\n",
    "        \"area\": \"113\",     # 113 - код для России\n",
    "        \"date_from\": start_date,\n",
    "        \"date_to\": end_date,\n",
    "        \"per_page\": 100    # 100 вакансий на страницу\n",
    "    }\n",
    "\n",
    "    # Создадим словарь с вакансиями и наполним его данными с помощью цикла\n",
    "    # Будем использовать определенные выше параметры params и url api hh.ru\n",
    "    vacancies = []\n",
    "    for page in tqdm(range(pages), desc = 'Загрузка страниц'):\n",
    "        params['page'] = page   # на каждой итерации обновляем номер страницы в params\n",
    "        response = requests.get(url, params=params)\n",
    "        if response.status_code == 200:     # код 200 - запрос выполнен успешно\n",
    "            data = response.json()\n",
    "            vacancies.extend(data['items'])\n",
    "        else:\n",
    "            print(f'Ошибка: {response.status_code}')\n",
    "            break\n",
    "    return vacancies"
   ]
  },
  {
   "cell_type": "code",
   "execution_count": 29,
   "metadata": {},
   "outputs": [
    {
     "name": "stderr",
     "output_type": "stream",
     "text": [
      "Загрузка страниц:   0%|          | 20/5776 [00:11<53:47,  1.78it/s]  \n"
     ]
    },
    {
     "name": "stdout",
     "output_type": "stream",
     "text": [
      "Ошибка: 400\n",
      "Получено 2000 вакансий\n"
     ]
    }
   ],
   "source": [
    "vacancies = get_vacancies(start_date, end_date, pages)\n",
    "print(f'Получено {len(vacancies)} вакансий')"
   ]
  }
 ],
 "metadata": {
  "kernelspec": {
   "display_name": "Python 3",
   "language": "python",
   "name": "python3"
  },
  "language_info": {
   "codemirror_mode": {
    "name": "ipython",
    "version": 3
   },
   "file_extension": ".py",
   "mimetype": "text/x-python",
   "name": "python",
   "nbconvert_exporter": "python",
   "pygments_lexer": "ipython3",
   "version": "3.12.5"
  }
 },
 "nbformat": 4,
 "nbformat_minor": 2
}
